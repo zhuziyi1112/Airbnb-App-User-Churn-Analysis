{
 "cells": [
  {
   "cell_type": "code",
   "execution_count": 63,
   "metadata": {},
   "outputs": [],
   "source": [
    "import numpy as np\n",
    "import pandas as pd\n",
    "import matplotlib.pyplot as plt\n",
    "from sklearn.ensemble import RandomForestClassifier as RFC\n",
    "from sklearn.metrics import auc,accuracy_score,recall_score,f1_score"
   ]
  },
  {
   "cell_type": "markdown",
   "metadata": {},
   "source": [
    "# Read Cleaned Data"
   ]
  },
  {
   "cell_type": "code",
   "execution_count": 66,
   "metadata": {},
   "outputs": [
    {
     "data": {
      "text/html": [
       "<div>\n",
       "<style scoped>\n",
       "    .dataframe tbody tr th:only-of-type {\n",
       "        vertical-align: middle;\n",
       "    }\n",
       "\n",
       "    .dataframe tbody tr th {\n",
       "        vertical-align: top;\n",
       "    }\n",
       "\n",
       "    .dataframe thead th {\n",
       "        text-align: right;\n",
       "    }\n",
       "</style>\n",
       "<table border=\"1\" class=\"dataframe\">\n",
       "  <thead>\n",
       "    <tr style=\"text-align: right;\">\n",
       "      <th></th>\n",
       "      <th>lasthtlordergap</th>\n",
       "      <th>cityorders</th>\n",
       "      <th>lastpvgap</th>\n",
       "      <th>cr</th>\n",
       "      <th>sid</th>\n",
       "      <th>visitnum_oneyear</th>\n",
       "      <th>h</th>\n",
       "    </tr>\n",
       "  </thead>\n",
       "  <tbody>\n",
       "    <tr>\n",
       "      <th>0</th>\n",
       "      <td>713.0</td>\n",
       "      <td>0.680</td>\n",
       "      <td>312.0</td>\n",
       "      <td>1.14</td>\n",
       "      <td>111.0</td>\n",
       "      <td>2162.0</td>\n",
       "      <td>18.0</td>\n",
       "    </tr>\n",
       "    <tr>\n",
       "      <th>1</th>\n",
       "      <td>97890.0</td>\n",
       "      <td>0.027</td>\n",
       "      <td>3594.0</td>\n",
       "      <td>1.00</td>\n",
       "      <td>54.0</td>\n",
       "      <td>1397.0</td>\n",
       "      <td>22.0</td>\n",
       "    </tr>\n",
       "    <tr>\n",
       "      <th>2</th>\n",
       "      <td>4601.0</td>\n",
       "      <td>0.813</td>\n",
       "      <td>299.0</td>\n",
       "      <td>1.07</td>\n",
       "      <td>385.0</td>\n",
       "      <td>2881.0</td>\n",
       "      <td>15.0</td>\n",
       "    </tr>\n",
       "    <tr>\n",
       "      <th>3</th>\n",
       "      <td>-1.0</td>\n",
       "      <td>3.033</td>\n",
       "      <td>1273.0</td>\n",
       "      <td>1.00</td>\n",
       "      <td>37.0</td>\n",
       "      <td>1218.0</td>\n",
       "      <td>15.0</td>\n",
       "    </tr>\n",
       "    <tr>\n",
       "      <th>4</th>\n",
       "      <td>52076.0</td>\n",
       "      <td>0.013</td>\n",
       "      <td>31216.0</td>\n",
       "      <td>2.00</td>\n",
       "      <td>61.0</td>\n",
       "      <td>318.0</td>\n",
       "      <td>5.0</td>\n",
       "    </tr>\n",
       "  </tbody>\n",
       "</table>\n",
       "</div>"
      ],
      "text/plain": [
       "   lasthtlordergap  cityorders  lastpvgap    cr    sid  visitnum_oneyear     h\n",
       "0            713.0       0.680      312.0  1.14  111.0            2162.0  18.0\n",
       "1          97890.0       0.027     3594.0  1.00   54.0            1397.0  22.0\n",
       "2           4601.0       0.813      299.0  1.07  385.0            2881.0  15.0\n",
       "3             -1.0       3.033     1273.0  1.00   37.0            1218.0  15.0\n",
       "4          52076.0       0.013    31216.0  2.00   61.0             318.0   5.0"
      ]
     },
     "execution_count": 66,
     "metadata": {},
     "output_type": "execute_result"
    }
   ],
   "source": [
    "Xtrain_new = pd.read_csv('Xtrain_new.csv',index_col=0)\n",
    "Xtrain_new = Xtrain_new.iloc[:,3:]\n",
    "Xtrain_new.head()"
   ]
  },
  {
   "cell_type": "code",
   "execution_count": 67,
   "metadata": {},
   "outputs": [
    {
     "data": {
      "text/html": [
       "<div>\n",
       "<style scoped>\n",
       "    .dataframe tbody tr th:only-of-type {\n",
       "        vertical-align: middle;\n",
       "    }\n",
       "\n",
       "    .dataframe tbody tr th {\n",
       "        vertical-align: top;\n",
       "    }\n",
       "\n",
       "    .dataframe thead th {\n",
       "        text-align: right;\n",
       "    }\n",
       "</style>\n",
       "<table border=\"1\" class=\"dataframe\">\n",
       "  <thead>\n",
       "    <tr style=\"text-align: right;\">\n",
       "      <th></th>\n",
       "      <th>lasthtlordergap</th>\n",
       "      <th>cityorders</th>\n",
       "      <th>lastpvgap</th>\n",
       "      <th>cr</th>\n",
       "      <th>sid</th>\n",
       "      <th>visitnum_oneyear</th>\n",
       "      <th>h</th>\n",
       "    </tr>\n",
       "  </thead>\n",
       "  <tbody>\n",
       "    <tr>\n",
       "      <th>0</th>\n",
       "      <td>218111.0</td>\n",
       "      <td>0.107</td>\n",
       "      <td>179.0</td>\n",
       "      <td>1.000000</td>\n",
       "      <td>530</td>\n",
       "      <td>3415.0</td>\n",
       "      <td>6</td>\n",
       "    </tr>\n",
       "    <tr>\n",
       "      <th>1</th>\n",
       "      <td>-1.0</td>\n",
       "      <td>9.160</td>\n",
       "      <td>35.0</td>\n",
       "      <td>1.000000</td>\n",
       "      <td>7</td>\n",
       "      <td>649.0</td>\n",
       "      <td>8</td>\n",
       "    </tr>\n",
       "    <tr>\n",
       "      <th>2</th>\n",
       "      <td>19564.0</td>\n",
       "      <td>8.467</td>\n",
       "      <td>1725.0</td>\n",
       "      <td>1.050000</td>\n",
       "      <td>73</td>\n",
       "      <td>2979.0</td>\n",
       "      <td>12</td>\n",
       "    </tr>\n",
       "    <tr>\n",
       "      <th>3</th>\n",
       "      <td>-1.0</td>\n",
       "      <td>6.960</td>\n",
       "      <td>250.0</td>\n",
       "      <td>1.136717</td>\n",
       "      <td>43</td>\n",
       "      <td>366.0</td>\n",
       "      <td>1</td>\n",
       "    </tr>\n",
       "    <tr>\n",
       "      <th>4</th>\n",
       "      <td>-1.0</td>\n",
       "      <td>0.060</td>\n",
       "      <td>27344.0</td>\n",
       "      <td>1.136717</td>\n",
       "      <td>11</td>\n",
       "      <td>507.0</td>\n",
       "      <td>1</td>\n",
       "    </tr>\n",
       "  </tbody>\n",
       "</table>\n",
       "</div>"
      ],
      "text/plain": [
       "   lasthtlordergap  cityorders  lastpvgap        cr  sid  visitnum_oneyear   h\n",
       "0         218111.0       0.107      179.0  1.000000  530            3415.0   6\n",
       "1             -1.0       9.160       35.0  1.000000    7             649.0   8\n",
       "2          19564.0       8.467     1725.0  1.050000   73            2979.0  12\n",
       "3             -1.0       6.960      250.0  1.136717   43             366.0   1\n",
       "4             -1.0       0.060    27344.0  1.136717   11             507.0   1"
      ]
     },
     "execution_count": 67,
     "metadata": {},
     "output_type": "execute_result"
    }
   ],
   "source": [
    "Xtest_new = pd.read_csv('Xtest_new.csv',index_col=0)\n",
    "Xtest_new = Xtest_new.iloc[:,3:]\n",
    "Xtest_new.head()"
   ]
  },
  {
   "cell_type": "code",
   "execution_count": 68,
   "metadata": {},
   "outputs": [
    {
     "data": {
      "text/html": [
       "<div>\n",
       "<style scoped>\n",
       "    .dataframe tbody tr th:only-of-type {\n",
       "        vertical-align: middle;\n",
       "    }\n",
       "\n",
       "    .dataframe tbody tr th {\n",
       "        vertical-align: top;\n",
       "    }\n",
       "\n",
       "    .dataframe thead th {\n",
       "        text-align: right;\n",
       "    }\n",
       "</style>\n",
       "<table border=\"1\" class=\"dataframe\">\n",
       "  <thead>\n",
       "    <tr style=\"text-align: right;\">\n",
       "      <th></th>\n",
       "      <th>label</th>\n",
       "    </tr>\n",
       "  </thead>\n",
       "  <tbody>\n",
       "    <tr>\n",
       "      <th>0</th>\n",
       "      <td>0</td>\n",
       "    </tr>\n",
       "    <tr>\n",
       "      <th>1</th>\n",
       "      <td>0</td>\n",
       "    </tr>\n",
       "    <tr>\n",
       "      <th>2</th>\n",
       "      <td>0</td>\n",
       "    </tr>\n",
       "    <tr>\n",
       "      <th>3</th>\n",
       "      <td>0</td>\n",
       "    </tr>\n",
       "    <tr>\n",
       "      <th>4</th>\n",
       "      <td>0</td>\n",
       "    </tr>\n",
       "  </tbody>\n",
       "</table>\n",
       "</div>"
      ],
      "text/plain": [
       "   label\n",
       "0      0\n",
       "1      0\n",
       "2      0\n",
       "3      0\n",
       "4      0"
      ]
     },
     "execution_count": 68,
     "metadata": {},
     "output_type": "execute_result"
    }
   ],
   "source": [
    "Ytrain = pd.read_csv('Ytrain.csv',index_col=0,header=0)\n",
    "\n",
    "Ytrain.head(5)"
   ]
  },
  {
   "cell_type": "code",
   "execution_count": 69,
   "metadata": {},
   "outputs": [
    {
     "data": {
      "text/html": [
       "<div>\n",
       "<style scoped>\n",
       "    .dataframe tbody tr th:only-of-type {\n",
       "        vertical-align: middle;\n",
       "    }\n",
       "\n",
       "    .dataframe tbody tr th {\n",
       "        vertical-align: top;\n",
       "    }\n",
       "\n",
       "    .dataframe thead th {\n",
       "        text-align: right;\n",
       "    }\n",
       "</style>\n",
       "<table border=\"1\" class=\"dataframe\">\n",
       "  <thead>\n",
       "    <tr style=\"text-align: right;\">\n",
       "      <th></th>\n",
       "      <th>label</th>\n",
       "    </tr>\n",
       "  </thead>\n",
       "  <tbody>\n",
       "    <tr>\n",
       "      <th>0</th>\n",
       "      <td>0</td>\n",
       "    </tr>\n",
       "    <tr>\n",
       "      <th>1</th>\n",
       "      <td>1</td>\n",
       "    </tr>\n",
       "    <tr>\n",
       "      <th>2</th>\n",
       "      <td>0</td>\n",
       "    </tr>\n",
       "    <tr>\n",
       "      <th>3</th>\n",
       "      <td>0</td>\n",
       "    </tr>\n",
       "    <tr>\n",
       "      <th>4</th>\n",
       "      <td>0</td>\n",
       "    </tr>\n",
       "  </tbody>\n",
       "</table>\n",
       "</div>"
      ],
      "text/plain": [
       "   label\n",
       "0      0\n",
       "1      1\n",
       "2      0\n",
       "3      0\n",
       "4      0"
      ]
     },
     "execution_count": 69,
     "metadata": {},
     "output_type": "execute_result"
    }
   ],
   "source": [
    "Ytest = pd.read_csv('Ytest.csv',index_col=0,header=0)\n",
    "Ytest.head(5)"
   ]
  },
  {
   "cell_type": "code",
   "execution_count": 70,
   "metadata": {},
   "outputs": [
    {
     "data": {
      "text/plain": [
       "array([0, 1, 0, ..., 1, 0, 1], dtype=int64)"
      ]
     },
     "execution_count": 70,
     "metadata": {},
     "output_type": "execute_result"
    }
   ],
   "source": [
    "Ytest.reset_index(drop=True)\n",
    "ytest = Ytest.values.reshape(1,-1)[0]\n",
    "ytest"
   ]
  },
  {
   "cell_type": "code",
   "execution_count": 71,
   "metadata": {},
   "outputs": [
    {
     "data": {
      "text/plain": [
       "array([0, 0, 0, ..., 0, 0, 0], dtype=int64)"
      ]
     },
     "execution_count": 71,
     "metadata": {},
     "output_type": "execute_result"
    }
   ],
   "source": [
    "ytrain = Ytrain.values.reshape(1,-1)[0]\n",
    "ytrain"
   ]
  },
  {
   "cell_type": "code",
   "execution_count": 72,
   "metadata": {},
   "outputs": [],
   "source": [
    "from sklearn.model_selection import cross_val_score\n",
    "from time import time\n",
    "import datetime"
   ]
  },
  {
   "cell_type": "markdown",
   "metadata": {},
   "source": [
    "# HyperParemeter Tuning"
   ]
  },
  {
   "cell_type": "markdown",
   "metadata": {},
   "source": [
    "## Select Estimators"
   ]
  },
  {
   "cell_type": "code",
   "execution_count": 73,
   "metadata": {},
   "outputs": [
    {
     "name": "stdout",
     "output_type": "stream",
     "text": [
      "24:11:018281\n",
      "0.7256217379798786 1\n"
     ]
    },
    {
     "data": {
      "image/png": "[encoded data removed]",
      "text/plain": [
       "<Figure size 576x432 with 1 Axes>"
      ]
     },
     "metadata": {
      "needs_background": "light"
     },
     "output_type": "display_data"
    }
   ],
   "source": [
    "score = []\n",
    "time0 = time()\n",
    "for i in range(10,201,10):\n",
    "    rfc = RFC(n_estimators= i\n",
    "             ,max_depth=3\n",
    "             ,random_state=0)\n",
    "    score_ = cross_val_score(rfc,Xtrain_new,ytrain,cv=5).mean()\n",
    "    score.append(score_)\n",
    "print(datetime.datetime.fromtimestamp(time()-time0).strftime(\"%M:%S:%f\"))\n",
    "print(max(score),np.argmax(score))\n",
    "plt.figure(figsize=(8,6))\n",
    "plt.plot(range(10,201,10),score)\n",
    "plt.show();"
   ]
  },
  {
   "cell_type": "markdown",
   "metadata": {},
   "source": [
    "## Select Max Depth"
   ]
  },
  {
   "cell_type": "code",
   "execution_count": 74,
   "metadata": {},
   "outputs": [
    {
     "name": "stdout",
     "output_type": "stream",
     "text": [
      "05:46:521681\n",
      "Score： 0.8815328732138512 Maximum Depth： 20\n"
     ]
    },
    {
     "data": {
      "image/png": "[encoded data removed]",
      "text/plain": [
       "<Figure size 576x432 with 1 Axes>"
      ]
     },
     "metadata": {
      "needs_background": "light"
     },
     "output_type": "display_data"
    }
   ],
   "source": [
    "score = []\n",
    "time0 = time()\n",
    "for i in np.arange(3, 21, 1):\n",
    "    rfc = RFC(n_estimators= 10\n",
    "             ,max_depth= i\n",
    "             ,random_state=0)\n",
    "    score_ = cross_val_score(rfc,Xtrain_new,ytrain,cv=5).mean()\n",
    "    score.append(score_)\n",
    "print(datetime.datetime.fromtimestamp(time()-time0).strftime(\"%M:%S:%f\"))\n",
    "print('Score：',max(score),'Maximum Depth：',np.arange(3, 21, 1)[np.argmax(score)])\n",
    "plt.figure(figsize=(8,6))\n",
    "plt.plot(np.arange(3, 21, 1),score)\n",
    "plt.show();"
   ]
  },
  {
   "cell_type": "markdown",
   "metadata": {},
   "source": [
    "## Minimum segmentation sample number selection"
   ]
  },
  {
   "cell_type": "code",
   "execution_count": 11,
   "metadata": {},
   "outputs": [
    {
     "name": "stdout",
     "output_type": "stream",
     "text": [
      "08:06:600785\n",
      "Score： 0.8034603208478679 Minimum number of branches： 3\n"
     ]
    },
    {
     "data": {
      "image/png": "[encoded data removed]",
      "text/plain": [
       "<Figure size 576x432 with 1 Axes>"
      ]
     },
     "metadata": {
      "needs_background": "light"
     },
     "output_type": "display_data"
    }
   ],
   "source": [
    "score_2 = []\n",
    "time0 = time()\n",
    "for i in np.arange(2, 22, 1):\n",
    "    rfc = RFC(n_estimators= 10\n",
    "             ,max_depth= 15\n",
    "             ,min_samples_split= i\n",
    "             ,random_state=0)\n",
    "    score_ = cross_val_score(rfc,Xtrain_new,ytrain,cv=5).mean()\n",
    "    score_2.append(score_)\n",
    "print(datetime.datetime.fromtimestamp(time()-time0).strftime(\"%M:%S:%f\"))\n",
    "print('Score：',max(score_2),'Minimum number of branches：',np.arange(2, 22, 1)[np.argmax(score_2)])\n",
    "plt.figure(figsize=(8,6))\n",
    "plt.plot(np.arange(2, 22, 1),score_2)\n",
    "plt.show();"
   ]
  },
  {
   "cell_type": "markdown",
   "metadata": {},
   "source": [
    "## Minimum leaf node sample number selection"
   ]
  },
  {
   "cell_type": "code",
   "execution_count": 12,
   "metadata": {},
   "outputs": [
    {
     "name": "stdout",
     "output_type": "stream",
     "text": [
      "04:25:694585\n",
      "Score： 0.8031973599050375 Minimum number of leaves： 1\n"
     ]
    },
    {
     "data": {
      "image/png": "[encoded data removed]",
      "text/plain": [
       "<Figure size 576x432 with 1 Axes>"
      ]
     },
     "metadata": {
      "needs_background": "light"
     },
     "output_type": "display_data"
    }
   ],
   "source": [
    "score_3 = []\n",
    "time0 = time()\n",
    "for i in np.arange(1, 12, 1):\n",
    "    rfc = RFC(n_estimators= 10\n",
    "             ,max_depth= 15\n",
    "             ,min_samples_split= 2\n",
    "             ,min_samples_leaf = i\n",
    "             ,random_state=0)\n",
    "    score_ = cross_val_score(rfc,Xtrain_new,ytrain,cv=5).mean()\n",
    "    score_3.append(score_)\n",
    "print(datetime.datetime.fromtimestamp(time()-time0).strftime(\"%M:%S:%f\"))\n",
    "print('Score：',max(score_3),'Minimum number of leaves：',np.arange(1, 12, 1)[np.argmax(score_3)])\n",
    "plt.figure(figsize=(8,6))\n",
    "plt.plot(np.arange(1, 12, 1),score_3)\n",
    "plt.show();"
   ]
  },
  {
   "cell_type": "markdown",
   "metadata": {},
   "source": [
    "## Second Selection from Minimum Evaluator"
   ]
  },
  {
   "cell_type": "code",
   "execution_count": 13,
   "metadata": {},
   "outputs": [
    {
     "name": "stdout",
     "output_type": "stream",
     "text": [
      "20:34:36\n",
      "0.8926124430903023 Optimal number of classifiers： 200\n"
     ]
    },
    {
     "data": {
      "image/png": "[encoded data removed]",
      "text/plain": [
       "<Figure size 576x432 with 1 Axes>"
      ]
     },
     "metadata": {
      "needs_background": "light"
     },
     "output_type": "display_data"
    }
   ],
   "source": [
    "score_4 = []\n",
    "time0 = time()\n",
    "for i in range(10,201,10):\n",
    "    rfc = RFC(n_estimators= i\n",
    "             ,max_depth=20\n",
    "             ,random_state=0)\n",
    "    score_ = cross_val_score(rfc,Xtrain_new,ytrain,cv=5).mean()\n",
    "    score_4.append(score_)\n",
    "print(datetime.datetime.fromtimestamp(time()-time0).strftime(\"%H:%M:%S\"))\n",
    "print(max(score_4),'Optimal number of classifiers：',range(10,201,10)[np.argmax(score_4)])\n",
    "plt.figure(figsize=(8,6))\n",
    "plt.plot(range(10,201,10),score_4)\n",
    "plt.show();"
   ]
  },
  {
   "cell_type": "markdown",
   "metadata": {},
   "source": [
    "# Define Parameters"
   ]
  },
  {
   "cell_type": "code",
   "execution_count": 76,
   "metadata": {},
   "outputs": [],
   "source": [
    "clf = RFC(n_estimators=200\n",
    "         ,max_depth=20\n",
    "         ,min_samples_leaf=1\n",
    "         ,min_samples_split=3\n",
    "         ,random_state=0\n",
    "         )\n",
    "clf = clf.fit(Xtrain_new,ytrain)"
   ]
  },
  {
   "cell_type": "code",
   "execution_count": 77,
   "metadata": {},
   "outputs": [
    {
     "data": {
      "text/plain": [
       "0.9261948687368131"
      ]
     },
     "execution_count": 77,
     "metadata": {},
     "output_type": "execute_result"
    }
   ],
   "source": [
    "clf.score(Xtrain_new,ytrain)"
   ]
  },
  {
   "cell_type": "code",
   "execution_count": 78,
   "metadata": {},
   "outputs": [
    {
     "data": {
      "text/plain": [
       "0.8942478645692421"
      ]
     },
     "execution_count": 78,
     "metadata": {},
     "output_type": "execute_result"
    }
   ],
   "source": [
    "clf.score(Xtest_new,ytest)"
   ]
  },
  {
   "cell_type": "code",
   "execution_count": 39,
   "metadata": {},
   "outputs": [],
   "source": [
    " clf = RFC(n_estimators=180\n",
    "         ,max_depth=20\n",
    "         ,min_samples_leaf=1\n",
    "         ,min_samples_split=2\n",
    "         ,random_state=0\n",
    "         )\n",
    "clf = clf.fit(Xtrain_new,ytrain)"
   ]
  },
  {
   "cell_type": "code",
   "execution_count": 40,
   "metadata": {},
   "outputs": [
    {
     "data": {
      "text/plain": [
       "0.9267166499986541"
      ]
     },
     "execution_count": 40,
     "metadata": {},
     "output_type": "execute_result"
    }
   ],
   "source": [
    "clf.score(Xtrain_new,ytrain)"
   ]
  },
  {
   "cell_type": "code",
   "execution_count": 41,
   "metadata": {},
   "outputs": [
    {
     "data": {
      "text/plain": [
       "0.8947454875739188"
      ]
     },
     "execution_count": 41,
     "metadata": {},
     "output_type": "execute_result"
    }
   ],
   "source": [
    "clf.score(Xtest_new,ytest)"
   ]
  },
  {
   "cell_type": "code",
   "execution_count": 42,
   "metadata": {},
   "outputs": [],
   "source": [
    "# from sklearn.model_selection import GridSearchCV "
   ]
  },
  {
   "cell_type": "code",
   "execution_count": 43,
   "metadata": {},
   "outputs": [],
   "source": [
    "# time0 = time()\n",
    "# rfc = RFC(n_estimators= 10\n",
    "#           ,random_state=0)\n",
    "# GS = GridSearchCV(rfc,param_grid,cv=5)\n",
    "# GS.fit(Xtrain_new,ytrain)\n",
    "# print('Best Parameters：',GS.best_params_)\n",
    "# print('Best Score：',GS.best_score_)\n",
    "# print(datetime.datetime.fromtimestamp(time()-time0).strftime(\"%H:%M:%S\"))"
   ]
  },
  {
   "cell_type": "code",
   "execution_count": 44,
   "metadata": {},
   "outputs": [
    {
     "data": {
      "text/plain": [
       "array([0.14539881, 0.16489804, 0.15960435, 0.11233295, 0.14936642,\n",
       "       0.16627315, 0.10212627])"
      ]
     },
     "execution_count": 44,
     "metadata": {},
     "output_type": "execute_result"
    }
   ],
   "source": [
    "clf.feature_importances_"
   ]
  },
  {
   "cell_type": "code",
   "execution_count": 45,
   "metadata": {},
   "outputs": [
    {
     "data": {
      "text/plain": [
       "Index(['lasthtlordergap', 'cityorders', 'lastpvgap', 'cr', 'sid',\n",
       "       'visitnum_oneyear', 'h'],\n",
       "      dtype='object')"
      ]
     },
     "execution_count": 45,
     "metadata": {},
     "output_type": "execute_result"
    }
   ],
   "source": [
    "Xtest_new.columns"
   ]
  },
  {
   "cell_type": "code",
   "execution_count": 46,
   "metadata": {},
   "outputs": [],
   "source": [
    "from sklearn.metrics import auc, roc_curve"
   ]
  },
  {
   "cell_type": "code",
   "execution_count": 79,
   "metadata": {},
   "outputs": [
    {
     "data": {
      "image/png": "[encoded data removed]",
      "text/plain": [
       "<Figure size 504x396 with 1 Axes>"
      ]
     },
     "metadata": {
      "needs_background": "light"
     },
     "output_type": "display_data"
    }
   ],
   "source": [
    "from sklearn.metrics import auc, roc_curve\n",
    "model = RFC(n_estimators=200\n",
    "         ,max_depth=20\n",
    "         ,min_samples_leaf=1\n",
    "         ,min_samples_split=3\n",
    "         ,random_state=0\n",
    "         )\n",
    "# ROC\n",
    "y_score = model.fit(Xtrain_new, ytrain).predict_proba(Xtest_new)  # Random Forest\n",
    "fpr, tpr, thresholds = roc_curve(ytest, y_score[:, 1])\n",
    "roc_auc = auc(fpr, tpr)\n",
    "def drawRoc(roc_auc,fpr,tpr):\n",
    "    plt.subplots(figsize=(7, 5.5))\n",
    "    plt.plot(fpr, tpr, color='darkorange', lw=2, label='ROC curve (area = %0.2f)' % roc_auc)\n",
    "    plt.plot([0, 1], [0, 1], color='navy', lw=2, linestyle='--')\n",
    "    plt.xlim([0.0, 1.0])\n",
    "    plt.ylim([0.0, 1.05])\n",
    "    plt.xlabel('False Positive Rate')\n",
    "    plt.ylabel('True Positive Rate')\n",
    "    plt.title('ROC Curve')\n",
    "    plt.legend(loc=\"lower right\")\n",
    "    plt.show()\n",
    "drawRoc(roc_auc, fpr, tpr)"
   ]
  },
  {
   "cell_type": "code",
   "execution_count": 80,
   "metadata": {},
   "outputs": [
    {
     "data": {
      "image/png": "[encoded data removed]",
      "text/plain": [
       "<Figure size 504x396 with 1 Axes>"
      ]
     },
     "metadata": {
      "needs_background": "light"
     },
     "output_type": "display_data"
    }
   ],
   "source": [
    "from sklearn.metrics import auc, roc_curve\n",
    "model = RFC()\n",
    "# ROC\n",
    "y_score = model.fit(Xtrain_new, ytrain).predict_proba(Xtest_new)  # Random Forest\n",
    "fpr, tpr, thresholds = roc_curve(ytest, y_score[:, 1])\n",
    "roc_auc = auc(fpr, tpr)\n",
    "def drawRoc(roc_auc, fpr, tpr):\n",
    "    plt.subplots(figsize=(7, 5.5))\n",
    "    plt.plot(fpr, tpr, color='darkorange', lw=2, label='ROC curve (area = %0.2f)' % roc_auc)\n",
    "    plt.plot([0, 1], [0, 1], color='navy', lw=2, linestyle='--')\n",
    "    plt.xlim([0.0, 1.0])\n",
    "    plt.ylim([0.0, 1.05])\n",
    "    plt.xlabel('False Positive Rate')\n",
    "    plt.ylabel('True Positive Rate')\n",
    "    plt.title('ROC Curve')\n",
    "    plt.legend(loc=\"lower right\")\n",
    "    plt.show()\n",
    "drawRoc(roc_auc, fpr, tpr)"
   ]
  },
  {
   "cell_type": "code",
   "execution_count": null,
   "metadata": {},
   "outputs": [],
   "source": []
  },
  {
   "cell_type": "code",
   "execution_count": null,
   "metadata": {},
   "outputs": [],
   "source": []
  }
 ],
 "metadata": {
  "kernelspec": {
   "display_name": "Python 3",
   "language": "python",
   "name": "python3"
  },
  "language_info": {
   "codemirror_mode": {
    "name": "ipython",
    "version": 3
   },
   "file_extension": ".py",
   "mimetype": "text/x-python",
   "name": "python",
   "nbconvert_exporter": "python",
   "pygments_lexer": "ipython3",
   "version": "3.8.8"
  },
  "toc": {
   "base_numbering": 1,
   "nav_menu": {},
   "number_sections": true,
   "sideBar": true,
   "skip_h1_title": false,
   "title_cell": "Table of Contents",
   "title_sidebar": "Contents",
   "toc_cell": false,
   "toc_position": {},
   "toc_section_display": true,
   "toc_window_display": false
  }
 },
 "nbformat": 4,
 "nbformat_minor": 2
}
